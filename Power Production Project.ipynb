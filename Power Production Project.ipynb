{
 "cells": [
  {
   "cell_type": "markdown",
   "metadata": {},
   "source": [
    "# Power Production Project"
   ]
  },
  {
   "cell_type": "code",
   "execution_count": 19,
   "metadata": {},
   "outputs": [],
   "source": [
    "import pandas as pd\n",
    "import numpy as np\n",
    "import seaborn as sns\n",
    "import matplotlib.pyplot as plt"
   ]
  },
  {
   "cell_type": "code",
   "execution_count": 20,
   "metadata": {},
   "outputs": [
    {
     "name": "stdout",
     "output_type": "stream",
     "text": [
      "      speed  power\n",
      "0     0.000    0.0\n",
      "1     0.125    0.0\n",
      "2     0.150    0.0\n",
      "3     0.225    0.0\n",
      "4     0.275    0.0\n",
      "..      ...    ...\n",
      "495  24.775    0.0\n",
      "496  24.850    0.0\n",
      "497  24.875    0.0\n",
      "498  24.950    0.0\n",
      "499  25.000    0.0\n",
      "\n",
      "[500 rows x 2 columns]\n"
     ]
    }
   ],
   "source": [
    "df = pd.read_csv (r'powerproduction.csv')\n",
    "print (df)"
   ]
  },
  {
   "cell_type": "code",
   "execution_count": 21,
   "metadata": {},
   "outputs": [
    {
     "data": {
      "text/plain": [
       "speed    float64\n",
       "power    float64\n",
       "dtype: object"
      ]
     },
     "execution_count": 21,
     "metadata": {},
     "output_type": "execute_result"
    }
   ],
   "source": [
    "df.dtypes"
   ]
  },
  {
   "cell_type": "code",
   "execution_count": 22,
   "metadata": {},
   "outputs": [
    {
     "data": {
      "text/plain": [
       "False"
      ]
     },
     "execution_count": 22,
     "metadata": {},
     "output_type": "execute_result"
    }
   ],
   "source": [
    "df.isnull().values.any()"
   ]
  },
  {
   "cell_type": "code",
   "execution_count": 23,
   "metadata": {},
   "outputs": [],
   "source": [
    "#df.drop(df.columns[df.apply(lambda col: col.isnull().sum() > 3)], axis=1)\n",
    "df_remove_power_Zero =  df[df.power != 0]"
   ]
  },
  {
   "cell_type": "code",
   "execution_count": 24,
   "metadata": {},
   "outputs": [
    {
     "name": "stdout",
     "output_type": "stream",
     "text": [
      "      speed    power\n",
      "5     0.325    4.331\n",
      "6     0.400    5.186\n",
      "7     0.450    3.826\n",
      "8     0.501    1.048\n",
      "9     0.526    5.553\n",
      "..      ...      ...\n",
      "485  24.249  103.700\n",
      "486  24.299   93.694\n",
      "487  24.349   93.078\n",
      "488  24.374   98.223\n",
      "489  24.399   95.117\n",
      "\n",
      "[451 rows x 2 columns]\n"
     ]
    }
   ],
   "source": [
    "print(df_remove_power_Zero)"
   ]
  },
  {
   "cell_type": "code",
   "execution_count": 25,
   "metadata": {
    "scrolled": true
   },
   "outputs": [
    {
     "data": {
      "text/html": [
       "<div>\n",
       "<style scoped>\n",
       "    .dataframe tbody tr th:only-of-type {\n",
       "        vertical-align: middle;\n",
       "    }\n",
       "\n",
       "    .dataframe tbody tr th {\n",
       "        vertical-align: top;\n",
       "    }\n",
       "\n",
       "    .dataframe thead th {\n",
       "        text-align: right;\n",
       "    }\n",
       "</style>\n",
       "<table border=\"1\" class=\"dataframe\">\n",
       "  <thead>\n",
       "    <tr style=\"text-align: right;\">\n",
       "      <th></th>\n",
       "      <th>speed</th>\n",
       "      <th>power</th>\n",
       "    </tr>\n",
       "  </thead>\n",
       "  <tbody>\n",
       "    <tr>\n",
       "      <th>count</th>\n",
       "      <td>500.000000</td>\n",
       "      <td>500.000000</td>\n",
       "    </tr>\n",
       "    <tr>\n",
       "      <th>mean</th>\n",
       "      <td>12.590398</td>\n",
       "      <td>48.014584</td>\n",
       "    </tr>\n",
       "    <tr>\n",
       "      <th>std</th>\n",
       "      <td>7.224991</td>\n",
       "      <td>41.614572</td>\n",
       "    </tr>\n",
       "    <tr>\n",
       "      <th>min</th>\n",
       "      <td>0.000000</td>\n",
       "      <td>0.000000</td>\n",
       "    </tr>\n",
       "    <tr>\n",
       "      <th>25%</th>\n",
       "      <td>6.324750</td>\n",
       "      <td>5.288000</td>\n",
       "    </tr>\n",
       "    <tr>\n",
       "      <th>50%</th>\n",
       "      <td>12.550500</td>\n",
       "      <td>41.645500</td>\n",
       "    </tr>\n",
       "    <tr>\n",
       "      <th>75%</th>\n",
       "      <td>18.775250</td>\n",
       "      <td>93.537000</td>\n",
       "    </tr>\n",
       "    <tr>\n",
       "      <th>max</th>\n",
       "      <td>25.000000</td>\n",
       "      <td>113.556000</td>\n",
       "    </tr>\n",
       "  </tbody>\n",
       "</table>\n",
       "</div>"
      ],
      "text/plain": [
       "            speed       power\n",
       "count  500.000000  500.000000\n",
       "mean    12.590398   48.014584\n",
       "std      7.224991   41.614572\n",
       "min      0.000000    0.000000\n",
       "25%      6.324750    5.288000\n",
       "50%     12.550500   41.645500\n",
       "75%     18.775250   93.537000\n",
       "max     25.000000  113.556000"
      ]
     },
     "execution_count": 25,
     "metadata": {},
     "output_type": "execute_result"
    }
   ],
   "source": [
    "df.describe()"
   ]
  },
  {
   "cell_type": "code",
   "execution_count": 26,
   "metadata": {},
   "outputs": [
    {
     "data": {
      "text/html": [
       "<div>\n",
       "<style scoped>\n",
       "    .dataframe tbody tr th:only-of-type {\n",
       "        vertical-align: middle;\n",
       "    }\n",
       "\n",
       "    .dataframe tbody tr th {\n",
       "        vertical-align: top;\n",
       "    }\n",
       "\n",
       "    .dataframe thead th {\n",
       "        text-align: right;\n",
       "    }\n",
       "</style>\n",
       "<table border=\"1\" class=\"dataframe\">\n",
       "  <thead>\n",
       "    <tr style=\"text-align: right;\">\n",
       "      <th></th>\n",
       "      <th>speed</th>\n",
       "      <th>power</th>\n",
       "    </tr>\n",
       "  </thead>\n",
       "  <tbody>\n",
       "    <tr>\n",
       "      <th>count</th>\n",
       "      <td>451.000000</td>\n",
       "      <td>451.000000</td>\n",
       "    </tr>\n",
       "    <tr>\n",
       "      <th>mean</th>\n",
       "      <td>13.004302</td>\n",
       "      <td>53.231246</td>\n",
       "    </tr>\n",
       "    <tr>\n",
       "      <th>std</th>\n",
       "      <td>6.835979</td>\n",
       "      <td>40.522055</td>\n",
       "    </tr>\n",
       "    <tr>\n",
       "      <th>min</th>\n",
       "      <td>0.325000</td>\n",
       "      <td>0.067000</td>\n",
       "    </tr>\n",
       "    <tr>\n",
       "      <th>25%</th>\n",
       "      <td>7.344500</td>\n",
       "      <td>8.543500</td>\n",
       "    </tr>\n",
       "    <tr>\n",
       "      <th>50%</th>\n",
       "      <td>13.038000</td>\n",
       "      <td>58.168000</td>\n",
       "    </tr>\n",
       "    <tr>\n",
       "      <th>75%</th>\n",
       "      <td>18.781500</td>\n",
       "      <td>94.725500</td>\n",
       "    </tr>\n",
       "    <tr>\n",
       "      <th>max</th>\n",
       "      <td>24.399000</td>\n",
       "      <td>113.556000</td>\n",
       "    </tr>\n",
       "  </tbody>\n",
       "</table>\n",
       "</div>"
      ],
      "text/plain": [
       "            speed       power\n",
       "count  451.000000  451.000000\n",
       "mean    13.004302   53.231246\n",
       "std      6.835979   40.522055\n",
       "min      0.325000    0.067000\n",
       "25%      7.344500    8.543500\n",
       "50%     13.038000   58.168000\n",
       "75%     18.781500   94.725500\n",
       "max     24.399000  113.556000"
      ]
     },
     "execution_count": 26,
     "metadata": {},
     "output_type": "execute_result"
    }
   ],
   "source": [
    "df_remove_power_Zero.describe()"
   ]
  },
  {
   "cell_type": "code",
   "execution_count": 27,
   "metadata": {},
   "outputs": [
    {
     "data": {
      "image/png": "[encoded data removed]",
      "text/plain": [
       "<Figure size 368x360 with 6 Axes>"
      ]
     },
     "metadata": {
      "needs_background": "light"
     },
     "output_type": "display_data"
    }
   ],
   "source": [
    "sns.pairplot(df).add_legend().fig.suptitle('Speed Vs Power - Raw Data')\n",
    "plt.show()"
   ]
  },
  {
   "cell_type": "code",
   "execution_count": 28,
   "metadata": {
    "scrolled": true
   },
   "outputs": [
    {
     "data": {
      "image/png": "[encoded data removed]",
      "text/plain": [
       "<Figure size 368x360 with 6 Axes>"
      ]
     },
     "metadata": {
      "needs_background": "light"
     },
     "output_type": "display_data"
    }
   ],
   "source": [
    "sns.pairplot(df_remove_power_Zero).add_legend().fig.suptitle('Speed Vs Power - Zeros removed')\n",
    "plt.show()"
   ]
  },
  {
   "cell_type": "code",
   "execution_count": 33,
   "metadata": {},
   "outputs": [],
   "source": [
    "import sklearn.linear_model as lin\n",
    "from sklearn.model_selection import train_test_split\n",
    "from sklearn.metrics import mean_squared_error, r2_score"
   ]
  },
  {
   "cell_type": "code",
   "execution_count": 34,
   "metadata": {},
   "outputs": [],
   "source": [
    "X = df_remove_power_Zero.values[:,0]\n",
    "Y = df_remove_power_Zero.values[:,1]"
   ]
  },
  {
   "cell_type": "code",
   "execution_count": 35,
   "metadata": {
    "scrolled": true
   },
   "outputs": [],
   "source": [
    "X_reshape =  X.reshape(-1, 1)\n",
    "Y_reshape = Y.reshape(-1,1)"
   ]
  },
  {
   "cell_type": "code",
   "execution_count": 36,
   "metadata": {},
   "outputs": [],
   "source": [
    "X_train, X_validation, Y_train, Y_validation = train_test_split(X_reshape, Y, test_size=0.20, random_state=7)"
   ]
  },
  {
   "cell_type": "code",
   "execution_count": 37,
   "metadata": {},
   "outputs": [],
   "source": [
    "lin_reg_model = lin.LinearRegression().fit(X_train,Y_train)"
   ]
  },
  {
   "cell_type": "code",
   "execution_count": 38,
   "metadata": {},
   "outputs": [],
   "source": [
    "r = lin_reg_model.score(X_validation, Y_validation)"
   ]
  },
  {
   "cell_type": "code",
   "execution_count": 43,
   "metadata": {},
   "outputs": [
    {
     "name": "stdout",
     "output_type": "stream",
     "text": [
      "0.9038134283916828\n"
     ]
    }
   ],
   "source": [
    "print(r)"
   ]
  },
  {
   "cell_type": "code",
   "execution_count": 39,
   "metadata": {},
   "outputs": [
    {
     "name": "stdout",
     "output_type": "stream",
     "text": [
      "Wind Speed: [10.561]\n",
      "PREDICTED VALUE:39.465, ACTUAL VALUE:22.758\n",
      "PERCENTAGE DIFFERENCE: 73.412%\n",
      "\n",
      "Wind Speed: [22.723]\n",
      "PREDICTED VALUE:108.234, ACTUAL VALUE:93.964\n",
      "PERCENTAGE DIFFERENCE: 15.187%\n",
      "\n",
      "Wind Speed: [24.349]\n",
      "PREDICTED VALUE:117.428, ACTUAL VALUE:93.078\n",
      "PERCENTAGE DIFFERENCE: 26.161%\n",
      "\n",
      "Wind Speed: [22.523]\n",
      "PREDICTED VALUE:107.103, ACTUAL VALUE:97.256\n",
      "PERCENTAGE DIFFERENCE: 10.125%\n",
      "\n",
      "Wind Speed: [9.309]\n",
      "PREDICTED VALUE:32.386, ACTUAL VALUE:12.881\n",
      "PERCENTAGE DIFFERENCE: 151.425%\n",
      "\n",
      "Wind Speed: [20.17]\n",
      "PREDICTED VALUE:93.798, ACTUAL VALUE:96.963\n",
      "PERCENTAGE DIFFERENCE: -3.264%\n",
      "\n",
      "Wind Speed: [5.681]\n",
      "PREDICTED VALUE:11.872, ACTUAL VALUE:3.036\n",
      "PERCENTAGE DIFFERENCE: 291.041%\n",
      "\n",
      "Wind Speed: [10.11]\n",
      "PREDICTED VALUE:36.915, ACTUAL VALUE:26.427\n",
      "PERCENTAGE DIFFERENCE: 39.687%\n",
      "\n",
      "Wind Speed: [20.571]\n",
      "PREDICTED VALUE:96.066, ACTUAL VALUE:103.405\n",
      "PERCENTAGE DIFFERENCE: -7.097%\n",
      "\n",
      "Wind Speed: [14.364]\n",
      "PREDICTED VALUE:60.969, ACTUAL VALUE:76.551\n",
      "PERCENTAGE DIFFERENCE: -20.355%\n",
      "\n",
      "Wind Speed: [23.248]\n",
      "PREDICTED VALUE:111.202, ACTUAL VALUE:104.655\n",
      "PERCENTAGE DIFFERENCE: 6.256%\n",
      "\n",
      "Wind Speed: [8.083]\n",
      "PREDICTED VALUE:25.454, ACTUAL VALUE:5.385\n",
      "PERCENTAGE DIFFERENCE: 372.683%\n",
      "\n",
      "Wind Speed: [15.991]\n",
      "PREDICTED VALUE:70.169, ACTUAL VALUE:78.994\n",
      "PERCENTAGE DIFFERENCE: -11.172%\n",
      "\n",
      "Wind Speed: [24.199]\n",
      "PREDICTED VALUE:116.58, ACTUAL VALUE:101.419\n",
      "PERCENTAGE DIFFERENCE: 14.949%\n",
      "\n",
      "Wind Speed: [10.16]\n",
      "PREDICTED VALUE:37.198, ACTUAL VALUE:16.474\n",
      "PERCENTAGE DIFFERENCE: 125.798%\n",
      "\n",
      "Wind Speed: [16.942]\n",
      "PREDICTED VALUE:75.546, ACTUAL VALUE:94.925\n",
      "PERCENTAGE DIFFERENCE: -20.415%\n",
      "\n",
      "Wind Speed: [4.179]\n",
      "PREDICTED VALUE:3.379, ACTUAL VALUE:1.035\n",
      "PERCENTAGE DIFFERENCE: 226.473%\n",
      "\n",
      "Wind Speed: [12.212]\n",
      "PREDICTED VALUE:48.801, ACTUAL VALUE:43.198\n",
      "PERCENTAGE DIFFERENCE: 12.971%\n",
      "\n",
      "Wind Speed: [13.989]\n",
      "PREDICTED VALUE:58.849, ACTUAL VALUE:65.596\n",
      "PERCENTAGE DIFFERENCE: -10.286%\n",
      "\n",
      "Wind Speed: [16.692]\n",
      "PREDICTED VALUE:74.132, ACTUAL VALUE:89.527\n",
      "PERCENTAGE DIFFERENCE: -17.196%\n",
      "\n",
      "Wind Speed: [10.26]\n",
      "PREDICTED VALUE:37.763, ACTUAL VALUE:24.293\n",
      "PERCENTAGE DIFFERENCE: 55.448%\n",
      "\n",
      "Wind Speed: [11.687]\n",
      "PREDICTED VALUE:45.832, ACTUAL VALUE:42.485\n",
      "PERCENTAGE DIFFERENCE: 7.878%\n",
      "\n",
      "Wind Speed: [7.708]\n",
      "PREDICTED VALUE:23.333, ACTUAL VALUE:10.297\n",
      "PERCENTAGE DIFFERENCE: 126.6%\n",
      "\n",
      "Wind Speed: [23.323]\n",
      "PREDICTED VALUE:111.626, ACTUAL VALUE:98.279\n",
      "PERCENTAGE DIFFERENCE: 13.581%\n",
      "\n",
      "Wind Speed: [9.209]\n",
      "PREDICTED VALUE:31.821, ACTUAL VALUE:11.12\n",
      "PERCENTAGE DIFFERENCE: 186.16%\n",
      "\n",
      "Wind Speed: [22.773]\n",
      "PREDICTED VALUE:108.517, ACTUAL VALUE:102.544\n",
      "PERCENTAGE DIFFERENCE: 5.825%\n",
      "\n",
      "Wind Speed: [21.471]\n",
      "PREDICTED VALUE:101.155, ACTUAL VALUE:97.671\n",
      "PERCENTAGE DIFFERENCE: 3.567%\n",
      "\n",
      "Wind Speed: [4.93]\n",
      "PREDICTED VALUE:7.626, ACTUAL VALUE:0.946\n",
      "PERCENTAGE DIFFERENCE: 706.131%\n",
      "\n",
      "Wind Speed: [22.247]\n",
      "PREDICTED VALUE:105.542, ACTUAL VALUE:93.931\n",
      "PERCENTAGE DIFFERENCE: 12.361%\n",
      "\n",
      "Wind Speed: [23.724]\n",
      "PREDICTED VALUE:113.894, ACTUAL VALUE:96.986\n",
      "PERCENTAGE DIFFERENCE: 17.433%\n",
      "\n",
      "Wind Speed: [17.467]\n",
      "PREDICTED VALUE:78.514, ACTUAL VALUE:100.889\n",
      "PERCENTAGE DIFFERENCE: -22.178%\n",
      "\n",
      "Wind Speed: [17.117]\n",
      "PREDICTED VALUE:76.535, ACTUAL VALUE:91.27\n",
      "PERCENTAGE DIFFERENCE: -16.144%\n",
      "\n",
      "Wind Speed: [3.904]\n",
      "PREDICTED VALUE:1.824, ACTUAL VALUE:4.453\n",
      "PERCENTAGE DIFFERENCE: -59.039%\n",
      "\n",
      "Wind Speed: [3.729]\n",
      "PREDICTED VALUE:0.835, ACTUAL VALUE:4.595\n",
      "PERCENTAGE DIFFERENCE: -81.828%\n",
      "\n",
      "Wind Speed: [17.618]\n",
      "PREDICTED VALUE:79.368, ACTUAL VALUE:93.38\n",
      "PERCENTAGE DIFFERENCE: -15.005%\n",
      "\n",
      "Wind Speed: [12.162]\n",
      "PREDICTED VALUE:48.518, ACTUAL VALUE:41.599\n",
      "PERCENTAGE DIFFERENCE: 16.633%\n",
      "\n",
      "Wind Speed: [23.223]\n",
      "PREDICTED VALUE:111.061, ACTUAL VALUE:102.462\n",
      "PERCENTAGE DIFFERENCE: 8.392%\n",
      "\n",
      "Wind Speed: [16.917]\n",
      "PREDICTED VALUE:75.405, ACTUAL VALUE:90.761\n",
      "PERCENTAGE DIFFERENCE: -16.919%\n",
      "\n",
      "Wind Speed: [15.591]\n",
      "PREDICTED VALUE:67.907, ACTUAL VALUE:81.239\n",
      "PERCENTAGE DIFFERENCE: -16.411%\n",
      "\n",
      "Wind Speed: [19.695]\n",
      "PREDICTED VALUE:91.112, ACTUAL VALUE:97.173\n",
      "PERCENTAGE DIFFERENCE: -6.237%\n",
      "\n",
      "Wind Speed: [2.227]\n",
      "PREDICTED VALUE:-7.658, ACTUAL VALUE:2.869\n",
      "PERCENTAGE DIFFERENCE: -366.922%\n",
      "\n",
      "Wind Speed: [20.871]\n",
      "PREDICTED VALUE:97.762, ACTUAL VALUE:108.485\n",
      "PERCENTAGE DIFFERENCE: -9.884%\n",
      "\n",
      "Wind Speed: [16.091]\n",
      "PREDICTED VALUE:70.734, ACTUAL VALUE:90.412\n",
      "PERCENTAGE DIFFERENCE: -21.765%\n",
      "\n",
      "Wind Speed: [2.402]\n",
      "PREDICTED VALUE:-6.669, ACTUAL VALUE:2.287\n",
      "PERCENTAGE DIFFERENCE: -391.605%\n",
      "\n",
      "Wind Speed: [16.592]\n",
      "PREDICTED VALUE:73.567, ACTUAL VALUE:92.997\n",
      "PERCENTAGE DIFFERENCE: -20.893%\n",
      "\n",
      "Wind Speed: [22.673]\n",
      "PREDICTED VALUE:107.951, ACTUAL VALUE:100.698\n",
      "PERCENTAGE DIFFERENCE: 7.203%\n",
      "\n",
      "Wind Speed: [23.949]\n",
      "PREDICTED VALUE:115.166, ACTUAL VALUE:95.364\n",
      "PERCENTAGE DIFFERENCE: 20.765%\n",
      "\n",
      "Wind Speed: [18.769]\n",
      "PREDICTED VALUE:85.876, ACTUAL VALUE:102.44\n",
      "PERCENTAGE DIFFERENCE: -16.169%\n",
      "\n",
      "Wind Speed: [13.338]\n",
      "PREDICTED VALUE:55.168, ACTUAL VALUE:64.541\n",
      "PERCENTAGE DIFFERENCE: -14.523%\n",
      "\n",
      "Wind Speed: [18.368]\n",
      "PREDICTED VALUE:83.609, ACTUAL VALUE:98.54\n",
      "PERCENTAGE DIFFERENCE: -15.152%\n",
      "\n",
      "Wind Speed: [13.313]\n",
      "PREDICTED VALUE:55.026, ACTUAL VALUE:59.735\n",
      "PERCENTAGE DIFFERENCE: -7.883%\n",
      "\n",
      "Wind Speed: [12.287]\n",
      "PREDICTED VALUE:49.225, ACTUAL VALUE:43.454\n",
      "PERCENTAGE DIFFERENCE: 13.281%\n",
      "\n",
      "Wind Speed: [14.014]\n",
      "PREDICTED VALUE:58.99, ACTUAL VALUE:69.24\n",
      "PERCENTAGE DIFFERENCE: -14.804%\n",
      "\n",
      "Wind Speed: [0.45]\n",
      "PREDICTED VALUE:-17.706, ACTUAL VALUE:3.826\n",
      "PERCENTAGE DIFFERENCE: -562.781%\n",
      "\n",
      "Wind Speed: [19.645]\n",
      "PREDICTED VALUE:90.83, ACTUAL VALUE:92.461\n",
      "PERCENTAGE DIFFERENCE: -1.764%\n",
      "\n",
      "Wind Speed: [16.241]\n",
      "PREDICTED VALUE:71.582, ACTUAL VALUE:87.192\n",
      "PERCENTAGE DIFFERENCE: -17.903%\n",
      "\n",
      "Wind Speed: [8.659]\n",
      "PREDICTED VALUE:28.711, ACTUAL VALUE:16.413\n",
      "PERCENTAGE DIFFERENCE: 74.928%\n",
      "\n",
      "Wind Speed: [22.823]\n",
      "PREDICTED VALUE:108.799, ACTUAL VALUE:101.342\n",
      "PERCENTAGE DIFFERENCE: 7.358%\n",
      "\n",
      "Wind Speed: [4.555]\n",
      "PREDICTED VALUE:5.505, ACTUAL VALUE:6.824\n",
      "PERCENTAGE DIFFERENCE: -19.329%\n",
      "\n",
      "Wind Speed: [22.623]\n",
      "PREDICTED VALUE:107.668, ACTUAL VALUE:100.558\n",
      "PERCENTAGE DIFFERENCE: 7.071%\n",
      "\n",
      "Wind Speed: [20.47]\n",
      "PREDICTED VALUE:95.494, ACTUAL VALUE:101.27\n",
      "PERCENTAGE DIFFERENCE: -5.704%\n",
      "\n",
      "Wind Speed: [21.722]\n",
      "PREDICTED VALUE:102.574, ACTUAL VALUE:97.797\n",
      "PERCENTAGE DIFFERENCE: 4.885%\n",
      "\n",
      "Wind Speed: [21.847]\n",
      "PREDICTED VALUE:103.281, ACTUAL VALUE:103.922\n",
      "PERCENTAGE DIFFERENCE: -0.617%\n",
      "\n",
      "Wind Speed: [16.717]\n",
      "PREDICTED VALUE:74.274, ACTUAL VALUE:93.698\n",
      "PERCENTAGE DIFFERENCE: -20.73%\n",
      "\n",
      "Wind Speed: [22.222]\n",
      "PREDICTED VALUE:105.401, ACTUAL VALUE:96.65\n",
      "PERCENTAGE DIFFERENCE: 9.054%\n",
      "\n",
      "Wind Speed: [9.985]\n",
      "PREDICTED VALUE:36.208, ACTUAL VALUE:19.354\n",
      "PERCENTAGE DIFFERENCE: 87.083%\n",
      "\n",
      "Wind Speed: [11.311]\n",
      "PREDICTED VALUE:43.706, ACTUAL VALUE:40.224\n",
      "PERCENTAGE DIFFERENCE: 8.657%\n",
      "\n",
      "Wind Speed: [1.702]\n",
      "PREDICTED VALUE:-10.627, ACTUAL VALUE:2.439\n",
      "PERCENTAGE DIFFERENCE: -535.711%\n",
      "\n",
      "Wind Speed: [15.19]\n",
      "PREDICTED VALUE:65.639, ACTUAL VALUE:77.164\n",
      "PERCENTAGE DIFFERENCE: -14.936%\n",
      "\n",
      "Wind Speed: [7.407]\n",
      "PREDICTED VALUE:21.631, ACTUAL VALUE:3.122\n",
      "PERCENTAGE DIFFERENCE: 592.857%\n",
      "\n",
      "Wind Speed: [7.257]\n",
      "PREDICTED VALUE:20.783, ACTUAL VALUE:5.252\n",
      "PERCENTAGE DIFFERENCE: 295.716%\n",
      "\n",
      "Wind Speed: [23.624]\n",
      "PREDICTED VALUE:113.328, ACTUAL VALUE:102.644\n",
      "PERCENTAGE DIFFERENCE: 10.409%\n",
      "\n",
      "Wind Speed: [18.869]\n",
      "PREDICTED VALUE:86.442, ACTUAL VALUE:87.986\n",
      "PERCENTAGE DIFFERENCE: -1.755%\n",
      "\n",
      "Wind Speed: [0.951]\n",
      "PREDICTED VALUE:-14.873, ACTUAL VALUE:1.609\n",
      "PERCENTAGE DIFFERENCE: -1024.363%\n",
      "\n",
      "Wind Speed: [23.023]\n",
      "PREDICTED VALUE:109.93, ACTUAL VALUE:101.308\n",
      "PERCENTAGE DIFFERENCE: 8.511%\n",
      "\n",
      "Wind Speed: [20.12]\n",
      "PREDICTED VALUE:93.515, ACTUAL VALUE:89.078\n",
      "PERCENTAGE DIFFERENCE: 4.981%\n",
      "\n",
      "Wind Speed: [0.501]\n",
      "PREDICTED VALUE:-17.418, ACTUAL VALUE:1.048\n",
      "PERCENTAGE DIFFERENCE: -1762.023%\n",
      "\n",
      "Wind Speed: [12.538]\n",
      "PREDICTED VALUE:50.644, ACTUAL VALUE:44.801\n",
      "PERCENTAGE DIFFERENCE: 13.042%\n",
      "\n",
      "Wind Speed: [14.039]\n",
      "PREDICTED VALUE:59.131, ACTUAL VALUE:66.55\n",
      "PERCENTAGE DIFFERENCE: -11.148%\n",
      "\n",
      "Wind Speed: [5.731]\n",
      "PREDICTED VALUE:12.155, ACTUAL VALUE:5.631\n",
      "PERCENTAGE DIFFERENCE: 115.859%\n",
      "\n",
      "Wind Speed: [7.633]\n",
      "PREDICTED VALUE:22.909, ACTUAL VALUE:14.788\n",
      "PERCENTAGE DIFFERENCE: 54.916%\n",
      "\n",
      "Wind Speed: [17.317]\n",
      "PREDICTED VALUE:77.666, ACTUAL VALUE:96.97\n",
      "PERCENTAGE DIFFERENCE: -19.907%\n",
      "\n",
      "Wind Speed: [18.794]\n",
      "PREDICTED VALUE:86.018, ACTUAL VALUE:96.054\n",
      "PERCENTAGE DIFFERENCE: -10.448%\n",
      "\n",
      "Wind Speed: [6.081]\n",
      "PREDICTED VALUE:14.134, ACTUAL VALUE:3.96\n",
      "PERCENTAGE DIFFERENCE: 256.919%\n",
      "\n",
      "Wind Speed: [14.289]\n",
      "PREDICTED VALUE:60.545, ACTUAL VALUE:68.616\n",
      "PERCENTAGE DIFFERENCE: -11.763%\n",
      "\n",
      "Wind Speed: [18.268]\n",
      "PREDICTED VALUE:83.044, ACTUAL VALUE:90.751\n",
      "PERCENTAGE DIFFERENCE: -8.492%\n",
      "\n",
      "Wind Speed: [5.631]\n",
      "PREDICTED VALUE:11.589, ACTUAL VALUE:6.184\n",
      "PERCENTAGE DIFFERENCE: 87.403%\n",
      "\n",
      "Wind Speed: [8.834]\n",
      "PREDICTED VALUE:29.7, ACTUAL VALUE:10.76\n",
      "PERCENTAGE DIFFERENCE: 176.022%\n",
      "\n",
      "Wind Speed: [1.902]\n",
      "PREDICTED VALUE:-9.496, ACTUAL VALUE:7.048\n",
      "PERCENTAGE DIFFERENCE: -234.733%\n",
      "\n",
      "Wind Speed: [3.053]\n",
      "PREDICTED VALUE:-2.988, ACTUAL VALUE:2.836\n",
      "PERCENTAGE DIFFERENCE: -205.36%\n",
      "\n",
      "Wind Speed: [7.508]\n",
      "PREDICTED VALUE:22.203, ACTUAL VALUE:9.034\n",
      "PERCENTAGE DIFFERENCE: 145.772%\n",
      "\n"
     ]
    }
   ],
   "source": [
    "Y_pred = lin_reg_model.predict(X_validation)\n",
    "#print(Y_pred[2])\n",
    "for i in range(0,len(Y_pred)):\n",
    "    a = X_validation[i]\n",
    "    b = round(Y_pred[i],3)\n",
    "    c = round(Y_validation[i],3)\n",
    "    print(\"Wind Speed: \"+ str(a) +\"\\nPREDICTED VALUE:\" + str(b) + \", ACTUAL VALUE:\" +str(c) + \"\\nPERCENTAGE DIFFERENCE: \"+ str(round((((b/c)-1)*100),3)) +\"%\\n\")"
   ]
  },
  {
   "cell_type": "code",
   "execution_count": 40,
   "metadata": {},
   "outputs": [],
   "source": [
    "all_lin_reg = lin.LinearRegression().fit(X_reshape,Y_reshape)"
   ]
  },
  {
   "cell_type": "code",
   "execution_count": 42,
   "metadata": {},
   "outputs": [
    {
     "data": {
      "text/plain": [
       "array([64.44473211])"
      ]
     },
     "execution_count": 42,
     "metadata": {},
     "output_type": "execute_result"
    }
   ],
   "source": [
    "all_lin_reg.predict(np.array([[15]]))[0]"
   ]
  },
  {
   "cell_type": "markdown",
   "metadata": {},
   "source": [
    "Sources:\n",
    "    https://www.duo.uio.no/bitstream/handle/10852/57735/Master_Thesis_Finn_Erik_20170525_FINAL.pdf?isAllowed=y&sequence=7"
   ]
  },
  {
   "cell_type": "code",
   "execution_count": null,
   "metadata": {},
   "outputs": [],
   "source": []
  }
 ],
 "metadata": {
  "kernelspec": {
   "display_name": "Python 3",
   "language": "python",
   "name": "python3"
  },
  "language_info": {
   "codemirror_mode": {
    "name": "ipython",
    "version": 3
   },
   "file_extension": ".py",
   "mimetype": "text/x-python",
   "name": "python",
   "nbconvert_exporter": "python",
   "pygments_lexer": "ipython3",
   "version": "3.8.5"
  }
 },
 "nbformat": 4,
 "nbformat_minor": 4
}
